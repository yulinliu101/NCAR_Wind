{
 "cells": [
  {
   "cell_type": "code",
   "execution_count": 1,
   "metadata": {
    "collapsed": true
   },
   "outputs": [],
   "source": [
    "import pygrib\n",
    "import numpy as np\n",
    "import pickle\n",
    "import os\n",
    "from collections import OrderedDict\n",
    "import zipfile"
   ]
  },
  {
   "cell_type": "code",
   "execution_count": 29,
   "metadata": {
    "collapsed": false
   },
   "outputs": [
    {
     "name": "stdout",
     "output_type": "stream",
     "text": [
      "A24522-201310.pgb.f00\n",
      "A24351-201301.pgb.f00\n",
      "A24560-201312.pgb.f00\n",
      "A24370-201302.pgb.f00\n",
      "A24389-201303.pgb.f00\n",
      "A24446-201306.pgb.f00\n",
      "A24541-201311.pgb.f00\n",
      "A24503-201309.pgb.f00\n",
      "A24408-201304.pgb.f00\n",
      "A24484-201308.pgb.f00\n",
      "A24465-201307.pgb.f00\n",
      "A24427-201305.pgb.f00\n"
     ]
    }
   ],
   "source": [
    "Time = []\n",
    "try:\n",
    "    os.mkdir('US_wind')\n",
    "except:\n",
    "    pass\n",
    "\n",
    "for rawfname in os.listdir(os.getcwd() + '/raw'):\n",
    "    print(rawfname)\n",
    "    grbs = pygrib.open(os.getcwd() + '/raw/' + rawfname)\n",
    "    uin = grbs.select(shortName='u', typeOfLevel='isobaricInhPa', level = lambda l: l >= 100 and l <= 1000)\n",
    "    vin = grbs.select(shortName='v', typeOfLevel='isobaricInhPa', level = lambda l: l >= 100 and l <= 1000)\n",
    "    grbs.close()\n",
    "\n",
    "    for i in range(len(uin)):\n",
    "        u_wind_i = uin[i]\n",
    "        v_wind_i = vin[i]\n",
    "\n",
    "        lat_grid = u_wind_i.data(lat1 = 20, lat2 = 55, lon1 = 230, lon2 = 300)[1].flatten()\n",
    "        lon_grid = u_wind_i.data(lat1 = 20, lat2 = 55, lon1 = 230, lon2 = 300)[2].flatten()\n",
    "        lon_lat_grid = np.dstack((lon_grid, lat_grid))[0]\n",
    "\n",
    "        pickle.dump(lon_lat_grid, open('LonLat_Grid.p','wb'), protocol=2)\n",
    "\n",
    "        date_time = str(u_wind_i.year) + '_' + str(u_wind_i.month).zfill(2) + '_' + str(u_wind_i.day).zfill(2) + '_' + str(u_wind_i.hour).zfill(2) + '00'\n",
    "        if date_time not in Time:\n",
    "\n",
    "            wind_data = OrderedDict()\n",
    "            Time.append(date_time)\n",
    "\n",
    "            wind_data[u_wind_i.level] = np.dstack((u_wind_i.data(lat1 = 20, lat2 = 55, lon1 = 230, lon2 = 300)[0].flatten(),\n",
    "                                                     v_wind_i.data(lat1 = 20, lat2 = 55, lon1 = 230, lon2 = 300)[0].flatten()))[0]\n",
    "\n",
    "        else:\n",
    "            wind_data[u_wind_i.level] = np.dstack((u_wind_i.data(lat1 = 20, lat2 = 55, lon1 = 230, lon2 = 300)[0].flatten(),\n",
    "                                                     v_wind_i.data(lat1 = 20, lat2 = 55, lon1 = 230, lon2 = 300)[0].flatten()))[0]\n",
    "\n",
    "        pickle.dump(wind_data, open(os.getcwd() + '/US_wind/' + date_time + '.p','wb'), protocol=2) # m/s"
   ]
  },
  {
   "cell_type": "code",
   "execution_count": 31,
   "metadata": {
    "collapsed": false
   },
   "outputs": [],
   "source": [
    "with zipfile.ZipFile('NCAR_wind.zip', mode='w', compression=zipfile.ZIP_DEFLATED) as zf:\n",
    "    for fname in os.listdir(os.getcwd() + '/US_wind/'):\n",
    "        zf.write(os.getcwd() + '/US_wind/' + fname)"
   ]
  },
  {
   "cell_type": "code",
   "execution_count": null,
   "metadata": {
    "collapsed": true
   },
   "outputs": [],
   "source": []
  }
 ],
 "metadata": {
  "anaconda-cloud": {},
  "kernelspec": {
   "display_name": "Python [Root]",
   "language": "python",
   "name": "Python [Root]"
  },
  "language_info": {
   "codemirror_mode": {
    "name": "ipython",
    "version": 3
   },
   "file_extension": ".py",
   "mimetype": "text/x-python",
   "name": "python",
   "nbconvert_exporter": "python",
   "pygments_lexer": "ipython3",
   "version": "3.5.2"
  }
 },
 "nbformat": 4,
 "nbformat_minor": 0
}
